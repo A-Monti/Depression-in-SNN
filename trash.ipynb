{
 "cells": [
  {
   "cell_type": "markdown",
   "metadata": {},
   "source": [
    "## Just a bunch of trash code that could be useful in the future"
   ]
  },
  {
   "cell_type": "markdown",
   "metadata": {},
   "source": [
    "#### Simulation class with STDP"
   ]
  },
  {
   "cell_type": "code",
   "execution_count": null,
   "metadata": {},
   "outputs": [],
   "source": [
    "import numpy as np\n",
    "import matplotlib.pyplot as plt\n",
    "\n",
    "class Simulation:\n",
    "    def __init__(self) -> None:\n",
    "        # Time Parameters\n",
    "        self.dt = 0.01\n",
    "        self.T = 200\n",
    "        self.time = np.arange(0, self.T, self.dt)\n",
    "\n",
    "        # Initial conditions\n",
    "        self.V = np.zeros(len(self.time))\n",
    "        self.W = np.zeros(len(self.time))\n",
    "        self.V[0] = -60\n",
    "        self.W[0] = 0.014\n",
    "\n",
    "        self.model = Morris_Lecar()\n",
    "\n",
    "    # def __init__(self, dt, T, time, V, W, v, w) -> None:\n",
    "    #     self.dt = dt\n",
    "    #     self.T = T\n",
    "    #     self.time = time\n",
    "\n",
    "    #     # Initial conditions\n",
    "    #     self.V = V\n",
    "    #     self.W = W\n",
    "    #     self.V[0] = v\n",
    "    #     self.W[0] = w\n",
    "\n",
    "    #     self.model = Morris_Lecar()\n",
    "    \n",
    "    def loop(self):\n",
    "        for self.t in range(1, len(self.time)):\n",
    "            m = self.model.m_inf(self.V[self.t-1])\n",
    "            w = self.W[self.t-1]\n",
    "            dV = (self.model.I_ext - self.model.gCa * m * (self.V[self.t-1] - self.model.VCa) - \n",
    "                  self.model.gK * w * (self.V[self.t-1] - self.model.VK) - self.model.gL * (self.V[self.t-1] - self.model.VL)) * self.dt\n",
    "            dW = (self.model.w_inf(self.V[self.t-1]) - w) / self.model.tau_w(self.V[self.t-1]) * self.dt\n",
    "            self.V[self.t] = self.V[self.t-1] + dV\n",
    "            self.W[self.t] = self.W[self.t-1] + dW\n",
    "\n",
    "        # Plotting the results\n",
    "        plt.figure(figsize=(10, 5))\n",
    "        plt.plot(self.time, self.V, label='Membrane potential (V)')\n",
    "        plt.xlabel('Time (ms)')\n",
    "        plt.ylabel('Membrane potential (mV)')\n",
    "        plt.title('Morris-Lecar Model')\n",
    "        plt.legend()\n",
    "        plt.show()\n",
    "        \n",
    "    def STDP(self):\n",
    "        weight_change = self.model.STDP(delta_t=10)\n",
    "        print(f\"Weight change due to STDP: {weight_change}.\")"
   ]
  },
  {
   "cell_type": "code",
   "execution_count": null,
   "metadata": {},
   "outputs": [],
   "source": [
    "sim = Simulation()\n",
    "sim.loop()"
   ]
  }
 ],
 "metadata": {
  "language_info": {
   "name": "python"
  }
 },
 "nbformat": 4,
 "nbformat_minor": 2
}
